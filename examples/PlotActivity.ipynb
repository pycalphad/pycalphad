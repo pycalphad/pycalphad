{
 "cells": [
  {
   "cell_type": "markdown",
   "metadata": {},
   "source": [
    "# Calculate and Plot Activity\n",
    "\n",
    "\n",
    "Given an existing database for Al-Zn, we would like to calculate the activity of the liquid.\n",
    "In order to make sure we are correct, we'll compare the values with experimental results.\n",
    "\n",
    "\n",
    "### Set up the database"
   ]
  },
  {
   "cell_type": "code",
   "execution_count": 1,
   "metadata": {},
   "outputs": [],
   "source": [
    "from pycalphad import Database, equilibrium, variables as v\n",
    "import numpy as np\n",
    "\n",
    "dbf = Database('alzn_mey.tdb') \n",
    "\n",
    "comps = ['AL', 'ZN', 'VA']\n",
    "phases = list(dbf.phases.keys())"
   ]
  },
  {
   "cell_type": "markdown",
   "metadata": {},
   "source": [
    "## Calculate the reference state\n",
    "\n",
    "You could also include this in the equilibrium calculation in the next step and select out the point you want, but it might be clear to be more explicit."
   ]
  },
  {
   "cell_type": "code",
   "execution_count": 2,
   "metadata": {},
   "outputs": [],
   "source": [
    "ref_eq = equilibrium(dbf, comps, phases, {v.P: 101325, v.T: 1023, v.X('ZN'): 1})"
   ]
  },
  {
   "cell_type": "markdown",
   "metadata": {},
   "source": [
    "## Calculate the equilibria\n",
    "\n",
    "Do the calculation over the compoisition range"
   ]
  },
  {
   "cell_type": "code",
   "execution_count": 3,
   "metadata": {},
   "outputs": [],
   "source": [
    "eq = equilibrium(dbf, comps, phases, {v.P: 1013325, v.T: 1023, v.X('ZN'): (0, 1, 0.005)})"
   ]
  },
  {
   "cell_type": "markdown",
   "metadata": {},
   "source": [
    "## Get the chemical potentials and calculate activity\n",
    "\n",
    "We need to select the chemical potentials from the xarray Dataset and calculate the activity."
   ]
  },
  {
   "cell_type": "code",
   "execution_count": 4,
   "metadata": {},
   "outputs": [],
   "source": [
    "chempot_ref = ref_eq.MU.sel(component='ZN').squeeze()\n",
    "chempot = eq.MU.sel(component='ZN').squeeze()\n",
    "\n",
    "acr_zn = np.exp((chempot - chempot_ref)/(8.315*1023))"
   ]
  },
  {
   "cell_type": "markdown",
   "metadata": {},
   "source": [
    "## Experimental activity results\n",
    "\n",
    "For comparision, we'll add experimental results.\n",
    "\n",
    "Activties are digtized from Fig 18 in Yazawa, A., & Lee, Y. K. (1970). Thermodynamic Studies of the Liquid Aluminum Alloy Systems. Transactions of the Japan Institute of Metals, 11(6), 411–418. http://doi.org/10.2320/matertrans1960.11.411\n",
    "\n",
    "The measurements at at 1073 K (the same temperature our calculations were at) and the reference is the pure components at that temperature."
   ]
  },
  {
   "cell_type": "code",
   "execution_count": 5,
   "metadata": {},
   "outputs": [],
   "source": [
    "exp_x_zn =   [0.0482, 0.1990, 0.3550, 0.5045, 0.6549, 0.8070, 0.9569]\n",
    "exp_acr_zn = [0.1154, 0.3765, 0.5411, 0.6433, 0.7352, 0.8384, 0.9531]"
   ]
  },
  {
   "cell_type": "markdown",
   "metadata": {},
   "source": [
    "## Plot the result"
   ]
  },
  {
   "cell_type": "code",
   "execution_count": 6,
   "metadata": {},
   "outputs": [
    {
     "data": {
      "text/plain": [
       "<matplotlib.legend.Legend at 0x11bcc7898>"
      ]
     },
     "execution_count": 6,
     "metadata": {},
     "output_type": "execute_result"
    },
    {
     "data": {
      "image/png": "[encoded data removed]",
      "text/plain": [
       "<matplotlib.figure.Figure at 0x119569438>"
      ]
     },
     "metadata": {},
     "output_type": "display_data"
    }
   ],
   "source": [
    "%matplotlib inline\n",
    "import matplotlib.pyplot as plt\n",
    "\n",
    "plt.plot(eq.X.sel(component='ZN', vertex=0).squeeze(), acr_zn, label='Calculated')\n",
    "# add experimental data\n",
    "plt.scatter(exp_x_zn, exp_acr_zn, label='Yazawa 1970')\n",
    "\n",
    "plt.xlabel('X(ZN)')\n",
    "plt.ylabel('a(ZN)')\n",
    "plt.title('Activity of Zn at 1073K')\n",
    "plt.legend(loc=0)"
   ]
  }
 ],
 "metadata": {
  "anaconda-cloud": {},
  "kernelspec": {
   "display_name": "Python [conda env:espei]",
   "language": "python",
   "name": "conda-env-espei-py"
  },
  "language_info": {
   "codemirror_mode": {
    "name": "ipython",
    "version": 3
   },
   "file_extension": ".py",
   "mimetype": "text/x-python",
   "name": "python",
   "nbconvert_exporter": "python",
   "pygments_lexer": "ipython3",
   "version": "3.6.2"
  }
 },
 "nbformat": 4,
 "nbformat_minor": 1
}
